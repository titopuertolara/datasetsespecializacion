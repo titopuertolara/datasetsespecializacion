{
  "nbformat": 4,
  "nbformat_minor": 0,
  "metadata": {
    "colab": {
      "provenance": []
    },
    "kernelspec": {
      "name": "python3",
      "display_name": "Python 3"
    },
    "language_info": {
      "name": "python"
    }
  },
  "cells": [
    {
      "cell_type": "code",
      "execution_count": 1,
      "metadata": {
        "id": "wBNHTsFPazAK"
      },
      "outputs": [],
      "source": [
        "import pandas as pd\n",
        "import torch\n",
        "import torch.nn as nn\n",
        "import numpy as np\n",
        "import math\n",
        "\n",
        "import matplotlib.pylab as plt\n",
        "import plotly.express as px\n",
        "from torchvision import transforms, datasets\n",
        "from torch.utils.data import DataLoader,TensorDataset,Dataset\n",
        "import torchvision"
      ]
    },
    {
      "cell_type": "markdown",
      "source": [
        "Cargamos el dataset"
      ],
      "metadata": {
        "id": "S-6Xl9vJwFgY"
      }
    },
    {
      "cell_type": "code",
      "source": [
        "iris=pd.read_csv('https://gist.githubusercontent.com/curran/a08a1080b88344b0c8a7/raw/0e7a9b0a5d22642a06d3d5b9bcbad9890c8ee534/iris.csv')"
      ],
      "metadata": {
        "id": "SaPmd88wa2ab"
      },
      "execution_count": 2,
      "outputs": []
    },
    {
      "cell_type": "code",
      "source": [
        "iris['species'].unique()"
      ],
      "metadata": {
        "colab": {
          "base_uri": "https://localhost:8080/"
        },
        "id": "Q1sHLs37xHFp",
        "outputId": "bed87a2b-7dc9-4b39-b630-86cc8612057a"
      },
      "execution_count": 3,
      "outputs": [
        {
          "output_type": "execute_result",
          "data": {
            "text/plain": [
              "array(['setosa', 'versicolor', 'virginica'], dtype=object)"
            ]
          },
          "metadata": {},
          "execution_count": 3
        }
      ]
    },
    {
      "cell_type": "markdown",
      "source": [
        "Definimos nuestra red neuronal"
      ],
      "metadata": {
        "id": "auNBMsFEwH-Y"
      }
    },
    {
      "cell_type": "code",
      "source": [
        "class red_neuronal(nn.Module):\n",
        "  def __init__(self, nin,middle,nout) :\n",
        "    super(red_neuronal,self).__init__()\n",
        "\n",
        "    self.fc1=nn.Linear(nin,middle)\n",
        "    self.fc2=nn.Linear(middle,nout)\n",
        "    self.softmax=nn.Softmax(dim=1)\n",
        "  def forward(self,x):\n",
        "    out=self.fc1(x)\n",
        "    out=self.fc2(out)\n",
        "    out=self.softmax(out)\n",
        "    return out"
      ],
      "metadata": {
        "id": "s5BAMU1icqim"
      },
      "execution_count": 4,
      "outputs": []
    },
    {
      "cell_type": "markdown",
      "source": [
        "Cambiamos los nombres de las clases"
      ],
      "metadata": {
        "id": "NaKC-I-iwfdI"
      }
    },
    {
      "cell_type": "code",
      "source": [
        "iris['species']=iris['species'].map({'setosa':0,'versicolor':1,'virginica':2})"
      ],
      "metadata": {
        "id": "etX4skSCgCC9"
      },
      "execution_count": 5,
      "outputs": []
    },
    {
      "cell_type": "markdown",
      "source": [
        "Definimos entradas y salidas"
      ],
      "metadata": {
        "id": "OlzCwGJxwijI"
      }
    },
    {
      "cell_type": "code",
      "source": [
        "X=iris[[i for i in iris.columns if i not in ['species']]]\n",
        "y=iris['species'].values"
      ],
      "metadata": {
        "id": "QWrW_rkigxVF"
      },
      "execution_count": 6,
      "outputs": []
    },
    {
      "cell_type": "code",
      "source": [
        "iris"
      ],
      "metadata": {
        "id": "KmlA91Doxnfe"
      },
      "execution_count": null,
      "outputs": []
    },
    {
      "cell_type": "markdown",
      "source": [
        "Convertimos a tensores y creamos el dataset\n"
      ],
      "metadata": {
        "id": "KU9ewrIrwm0y"
      }
    },
    {
      "cell_type": "code",
      "source": [
        "X=torch.tensor(np.array(X),dtype=torch.float)\n",
        "y=torch.tensor(y)\n",
        "dataset=TensorDataset(X,y)"
      ],
      "metadata": {
        "id": "_pmVNSnbhLpE"
      },
      "execution_count": 7,
      "outputs": []
    },
    {
      "cell_type": "markdown",
      "source": [
        "Entrenamiento y prueba"
      ],
      "metadata": {
        "id": "q2jVjyAwwrHu"
      }
    },
    {
      "cell_type": "code",
      "source": [
        "train_size = int(0.8 * len(dataset))\n",
        "test_size = len(dataset) - train_size\n",
        "train_dataset, test_dataset = torch.utils.data.random_split(dataset, [train_size, test_size])"
      ],
      "metadata": {
        "id": "AaJJwuzRnydh"
      },
      "execution_count": 8,
      "outputs": []
    },
    {
      "cell_type": "markdown",
      "source": [
        "Creamos la estructura para que pueda ser leida por el modelo"
      ],
      "metadata": {
        "id": "mD5-ttu-wuXi"
      }
    },
    {
      "cell_type": "code",
      "source": [
        "traindataloader=DataLoader(train_dataset,shuffle=True,batch_size=8)\n",
        "testdataloader=DataLoader(test_dataset,shuffle=True,batch_size=8)"
      ],
      "metadata": {
        "id": "NJAqZH6ogkyA"
      },
      "execution_count": 9,
      "outputs": []
    },
    {
      "cell_type": "markdown",
      "source": [
        "LLamamos nuestro modelo, en este caso nuestra red neuronal tiene 4 entradas y 3 salidas. También vemos que se configuró una tasa de aprendizaje de 0.001 ( puedes probar diferentes tasas para ver como se comporta)"
      ],
      "metadata": {
        "id": "xUKFDDEbw11l"
      }
    },
    {
      "cell_type": "code",
      "source": [
        "neural_network=red_neuronal(4,16,3)\n",
        "lossfn=nn.CrossEntropyLoss()\n",
        "optimizer=torch.optim.Adam(neural_network.parameters(),lr=0.001)"
      ],
      "metadata": {
        "id": "lU58w016eTDD"
      },
      "execution_count": 10,
      "outputs": []
    },
    {
      "cell_type": "markdown",
      "source": [
        "Entrenamiento ( puedes variar el número de epocas para ver que pasa)"
      ],
      "metadata": {
        "id": "m60trltd1JN_"
      }
    },
    {
      "cell_type": "code",
      "source": [
        "epochs=100\n",
        "loss_ep_train=[]\n",
        "acc_ep_train=[]\n",
        "loss_ep_test=[]\n",
        "acc_ep_test=[]\n",
        "max_acc=0\n",
        "for e in range(epochs):\n",
        "  corrects=0\n",
        "  loss_run_train=[]\n",
        "  loss_acum_t=0.0\n",
        "\n",
        "  for x,y in traindataloader:\n",
        "    z=neural_network(x)\n",
        "    loss=lossfn(z,y)\n",
        "    _,preds=torch.max(z,1)\n",
        "    corrects+=torch.sum(preds==y).item()\n",
        "    optimizer.zero_grad()\n",
        "    loss.backward()\n",
        "    optimizer.step()\n",
        "    loss_run_train.append(loss.item())\n",
        "    loss_acum_t+=loss.item()\n",
        "  acctrain=corrects/len(traindataloader.dataset)\n",
        "  acc_ep_train.append(acctrain)\n",
        "  #loss_ep_train.append(np.mean(loss_run_train))\n",
        "  loss_ep_train.append(loss_acum_t/len(traindataloader.dataset))\n",
        "  neural_network.eval()\n",
        "  corrects=0\n",
        "  loss_run_test=[]\n",
        "  loss_acum_te=0.0\n",
        "  for x,y in testdataloader:\n",
        "    z=neural_network(x)\n",
        "    loss=lossfn(z,y)\n",
        "    _,preds=torch.max(z,1)\n",
        "    corrects+=torch.sum(preds==y).item()\n",
        "    loss_run_test.append(loss.item())\n",
        "    loss_acum_te+=loss.item()\n",
        "  acctest=corrects/len(testdataloader.dataset)\n",
        "  acc_ep_test.append(acctest)\n",
        "  #loss_ep_test.append(np.mean(loss_run_test))\n",
        "  loss_ep_test.append(loss_acum_te/len(testdataloader.dataset))\n",
        "  print(f'epoch: {e+1}/{epochs}')\n",
        "  if acctest>max_acc:\n",
        "    best_model=neural_network\n",
        "    max_acc=acctest\n",
        "    print(\"Encontré un mejor modelo!!\")\n",
        "    torch.save(neural_network.state_dict(),f'mejor_modelo.pt')\n",
        "    print('Nuevo mejor modelo!')\n",
        "  #print(f'[train] error: {round(np.mean(loss_run_train),2)} accuracy: {round(acctrain,2)}')\n",
        "  #print(f'[test] error: {round(np.mean(loss_run_test),2)} accuracy: {round(acctest,2)}')\n",
        "  print(f'[train] error: {loss_acum_t/len(traindataloader.dataset)} accuracy: {round(acctrain,2)}')\n",
        "  print(f'[test] error: {loss_acum_te/len(testdataloader.dataset)} accuracy: {round(acctest,2)}')\n"
      ],
      "metadata": {
        "colab": {
          "base_uri": "https://localhost:8080/"
        },
        "id": "PY6Z1azwhdae",
        "outputId": "c673d564-33ed-400b-dc9e-aef4d9e75790"
      },
      "execution_count": 11,
      "outputs": [
        {
          "output_type": "stream",
          "name": "stdout",
          "text": [
            "epoch: 1/100\n",
            "Encontré un mejor modelo!!\n",
            "Nuevo mejor modelo!\n",
            "[train] error: 0.13031082202990849 accuracy: 0.42\n",
            "[test] error: 0.15353318055470785 accuracy: 0.1\n",
            "epoch: 2/100\n",
            "[train] error: 0.127769768734773 accuracy: 0.39\n",
            "[test] error: 0.154324205716451 accuracy: 0.1\n",
            "epoch: 3/100\n",
            "[train] error: 0.1259942149122556 accuracy: 0.39\n",
            "[test] error: 0.14944632450739542 accuracy: 0.1\n",
            "epoch: 4/100\n",
            "Encontré un mejor modelo!!\n",
            "Nuevo mejor modelo!\n",
            "[train] error: 0.1235727330048879 accuracy: 0.41\n",
            "[test] error: 0.14355351130167643 accuracy: 0.3\n",
            "epoch: 5/100\n",
            "Encontré un mejor modelo!!\n",
            "Nuevo mejor modelo!\n",
            "[train] error: 0.12085418154795964 accuracy: 0.64\n",
            "[test] error: 0.13925569852193195 accuracy: 0.63\n",
            "epoch: 6/100\n",
            "[train] error: 0.11805661022663116 accuracy: 0.67\n",
            "[test] error: 0.13351110021273296 accuracy: 0.63\n",
            "epoch: 7/100\n",
            "[train] error: 0.11545654932657877 accuracy: 0.68\n",
            "[test] error: 0.12735759218533835 accuracy: 0.63\n",
            "epoch: 8/100\n",
            "[train] error: 0.11293553610642751 accuracy: 0.68\n",
            "[test] error: 0.12536824146906536 accuracy: 0.63\n",
            "epoch: 9/100\n",
            "[train] error: 0.1109157865246137 accuracy: 0.68\n",
            "[test] error: 0.12155652443567912 accuracy: 0.63\n",
            "epoch: 10/100\n",
            "[train] error: 0.10908653338750203 accuracy: 0.68\n",
            "[test] error: 0.11833960811297099 accuracy: 0.63\n",
            "epoch: 11/100\n",
            "[train] error: 0.10756170401970545 accuracy: 0.68\n",
            "[test] error: 0.11587761243184408 accuracy: 0.63\n",
            "epoch: 12/100\n",
            "[train] error: 0.10624708781639734 accuracy: 0.68\n",
            "[test] error: 0.11429223418235779 accuracy: 0.63\n",
            "epoch: 13/100\n",
            "[train] error: 0.10505197544892629 accuracy: 0.68\n",
            "[test] error: 0.11166957418123881 accuracy: 0.63\n",
            "epoch: 14/100\n",
            "[train] error: 0.10403669327497482 accuracy: 0.7\n",
            "[test] error: 0.11131531000137329 accuracy: 0.63\n",
            "epoch: 15/100\n",
            "[train] error: 0.10295564035574595 accuracy: 0.72\n",
            "[test] error: 0.10981812477111816 accuracy: 0.63\n",
            "epoch: 16/100\n",
            "[train] error: 0.10202516814072927 accuracy: 0.72\n",
            "[test] error: 0.10838173826535542 accuracy: 0.63\n",
            "epoch: 17/100\n",
            "Encontré un mejor modelo!!\n",
            "Nuevo mejor modelo!\n",
            "[train] error: 0.10114603986342748 accuracy: 0.76\n",
            "[test] error: 0.10625512997309366 accuracy: 0.77\n",
            "epoch: 18/100\n",
            "[train] error: 0.10035637517770131 accuracy: 0.79\n",
            "[test] error: 0.10566229422887166 accuracy: 0.77\n",
            "epoch: 19/100\n",
            "[train] error: 0.0995139330625534 accuracy: 0.79\n",
            "[test] error: 0.10336111783981324 accuracy: 0.77\n",
            "epoch: 20/100\n",
            "[train] error: 0.0988332803050677 accuracy: 0.82\n",
            "[test] error: 0.10524494449297588 accuracy: 0.77\n",
            "epoch: 21/100\n",
            "Encontré un mejor modelo!!\n",
            "Nuevo mejor modelo!\n",
            "[train] error: 0.09808561156193416 accuracy: 0.88\n",
            "[test] error: 0.10160163442293803 accuracy: 0.8\n",
            "epoch: 22/100\n",
            "Encontré un mejor modelo!!\n",
            "Nuevo mejor modelo!\n",
            "[train] error: 0.09741048713525137 accuracy: 0.84\n",
            "[test] error: 0.1026720404624939 accuracy: 0.83\n",
            "epoch: 23/100\n",
            "[train] error: 0.09670537412166595 accuracy: 0.89\n",
            "[test] error: 0.10093120336532593 accuracy: 0.83\n",
            "epoch: 24/100\n",
            "[train] error: 0.09626816014448801 accuracy: 0.87\n",
            "[test] error: 0.10059749285380046 accuracy: 0.83\n",
            "epoch: 25/100\n",
            "Encontré un mejor modelo!!\n",
            "Nuevo mejor modelo!\n",
            "[train] error: 0.09550322542587916 accuracy: 0.91\n",
            "[test] error: 0.0980028748512268 accuracy: 0.9\n",
            "epoch: 26/100\n",
            "[train] error: 0.09492240349451701 accuracy: 0.9\n",
            "[test] error: 0.0998919705549876 accuracy: 0.87\n",
            "epoch: 27/100\n",
            "[train] error: 0.09428015897671381 accuracy: 0.93\n",
            "[test] error: 0.09809338649113973 accuracy: 0.87\n",
            "epoch: 28/100\n",
            "[train] error: 0.09362661341826121 accuracy: 0.91\n",
            "[test] error: 0.09767680962880453 accuracy: 0.87\n",
            "epoch: 29/100\n",
            "Encontré un mejor modelo!!\n",
            "Nuevo mejor modelo!\n",
            "[train] error: 0.09304006397724152 accuracy: 0.97\n",
            "[test] error: 0.09768324891726175 accuracy: 0.93\n",
            "epoch: 30/100\n",
            "[train] error: 0.09254150042931239 accuracy: 0.96\n",
            "[test] error: 0.09614010055859884 accuracy: 0.93\n",
            "epoch: 31/100\n",
            "[train] error: 0.09194577982028325 accuracy: 0.93\n",
            "[test] error: 0.09655866622924805 accuracy: 0.9\n",
            "epoch: 32/100\n",
            "[train] error: 0.09140442957480749 accuracy: 0.94\n",
            "[test] error: 0.09515179395675659 accuracy: 0.93\n",
            "epoch: 33/100\n",
            "[train] error: 0.09078609943389893 accuracy: 0.96\n",
            "[test] error: 0.09380415280659994 accuracy: 0.93\n",
            "epoch: 34/100\n",
            "[train] error: 0.0902733047803243 accuracy: 0.97\n",
            "[test] error: 0.09368584553400676 accuracy: 0.93\n",
            "epoch: 35/100\n",
            "[train] error: 0.09016349762678147 accuracy: 0.95\n",
            "[test] error: 0.09585531552632649 accuracy: 0.93\n",
            "epoch: 36/100\n",
            "Encontré un mejor modelo!!\n",
            "Nuevo mejor modelo!\n",
            "[train] error: 0.08915442178646724 accuracy: 0.97\n",
            "[test] error: 0.09283603429794311 accuracy: 0.97\n",
            "epoch: 37/100\n",
            "[train] error: 0.08903361707925797 accuracy: 0.97\n",
            "[test] error: 0.09366751313209534 accuracy: 0.93\n",
            "epoch: 38/100\n",
            "[train] error: 0.0883155733346939 accuracy: 0.97\n",
            "[test] error: 0.09282999634742736 accuracy: 0.93\n",
            "epoch: 39/100\n",
            "[train] error: 0.08776639997959138 accuracy: 0.97\n",
            "[test] error: 0.09287045995394388 accuracy: 0.93\n",
            "epoch: 40/100\n",
            "[train] error: 0.08766564826170603 accuracy: 0.97\n",
            "[test] error: 0.09136298696200053 accuracy: 0.93\n",
            "epoch: 41/100\n",
            "[train] error: 0.08695474763711293 accuracy: 0.96\n",
            "[test] error: 0.09299047191937765 accuracy: 0.93\n",
            "epoch: 42/100\n",
            "[train] error: 0.08657715022563935 accuracy: 0.97\n",
            "[test] error: 0.0910612424214681 accuracy: 0.97\n",
            "epoch: 43/100\n",
            "[train] error: 0.08612306813398997 accuracy: 0.97\n",
            "[test] error: 0.09061764280001322 accuracy: 0.93\n",
            "epoch: 44/100\n",
            "[train] error: 0.08581697543462118 accuracy: 0.97\n",
            "[test] error: 0.08956731557846069 accuracy: 0.97\n",
            "epoch: 45/100\n",
            "[train] error: 0.0856784035762151 accuracy: 0.97\n",
            "[test] error: 0.09069178501764934 accuracy: 0.93\n",
            "epoch: 46/100\n",
            "[train] error: 0.08507082064946493 accuracy: 0.98\n",
            "[test] error: 0.0880709171295166 accuracy: 0.97\n",
            "epoch: 47/100\n",
            "[train] error: 0.08461231887340545 accuracy: 0.98\n",
            "[test] error: 0.08910868366559346 accuracy: 0.97\n",
            "epoch: 48/100\n",
            "[train] error: 0.08457756787538528 accuracy: 0.97\n",
            "[test] error: 0.08877758781115214 accuracy: 0.97\n",
            "epoch: 49/100\n",
            "[train] error: 0.08398425827423732 accuracy: 0.97\n",
            "[test] error: 0.08942273060480753 accuracy: 0.93\n",
            "epoch: 50/100\n",
            "[train] error: 0.08385122915108999 accuracy: 0.96\n",
            "[test] error: 0.08929725289344788 accuracy: 0.93\n",
            "epoch: 51/100\n",
            "[train] error: 0.08348392794529597 accuracy: 0.98\n",
            "[test] error: 0.08691299955050151 accuracy: 0.97\n",
            "epoch: 52/100\n",
            "[train] error: 0.08307394683361054 accuracy: 0.98\n",
            "[test] error: 0.0896796464920044 accuracy: 0.93\n",
            "epoch: 53/100\n",
            "[train] error: 0.08292013158400853 accuracy: 0.97\n",
            "[test] error: 0.08771369457244874 accuracy: 0.97\n",
            "epoch: 54/100\n",
            "[train] error: 0.08263473411401114 accuracy: 0.97\n",
            "[test] error: 0.08786787788073222 accuracy: 0.97\n",
            "epoch: 55/100\n",
            "[train] error: 0.08216498792171478 accuracy: 0.98\n",
            "[test] error: 0.0869046946366628 accuracy: 0.97\n",
            "epoch: 56/100\n",
            "[train] error: 0.08196458866198858 accuracy: 0.97\n",
            "[test] error: 0.08684723774592082 accuracy: 0.97\n",
            "epoch: 57/100\n",
            "[train] error: 0.08175965795914332 accuracy: 0.97\n",
            "[test] error: 0.08748914996782939 accuracy: 0.97\n",
            "epoch: 58/100\n",
            "[train] error: 0.08161897162596385 accuracy: 0.97\n",
            "[test] error: 0.08601017395655314 accuracy: 0.97\n",
            "epoch: 59/100\n",
            "[train] error: 0.08131547172864279 accuracy: 0.97\n",
            "[test] error: 0.08633645375569661 accuracy: 0.97\n",
            "epoch: 60/100\n",
            "[train] error: 0.08099950104951859 accuracy: 0.97\n",
            "[test] error: 0.08627846837043762 accuracy: 0.97\n",
            "epoch: 61/100\n",
            "[train] error: 0.08077416867017746 accuracy: 0.98\n",
            "[test] error: 0.08618024190266928 accuracy: 0.97\n",
            "epoch: 62/100\n",
            "[train] error: 0.08066656837860743 accuracy: 0.98\n",
            "[test] error: 0.0851243277390798 accuracy: 0.97\n",
            "epoch: 63/100\n",
            "[train] error: 0.08050538251797358 accuracy: 0.97\n",
            "[test] error: 0.08777296543121338 accuracy: 0.93\n",
            "epoch: 64/100\n",
            "[train] error: 0.08009383082389832 accuracy: 0.97\n",
            "[test] error: 0.08476929465929667 accuracy: 0.97\n",
            "epoch: 65/100\n",
            "[train] error: 0.08015968799591064 accuracy: 0.98\n",
            "[test] error: 0.084659876426061 accuracy: 0.97\n",
            "epoch: 66/100\n",
            "[train] error: 0.07975012958049774 accuracy: 0.97\n",
            "[test] error: 0.08679872353871664 accuracy: 0.97\n",
            "epoch: 67/100\n",
            "[train] error: 0.07962450484434763 accuracy: 0.97\n",
            "[test] error: 0.08594213525454203 accuracy: 0.97\n",
            "epoch: 68/100\n",
            "[train] error: 0.07951277047395706 accuracy: 0.97\n",
            "[test] error: 0.08540236155192057 accuracy: 0.97\n",
            "epoch: 69/100\n",
            "[train] error: 0.07923772086699804 accuracy: 0.98\n",
            "[test] error: 0.08413451115290324 accuracy: 0.97\n",
            "epoch: 70/100\n",
            "[train] error: 0.07913562109073004 accuracy: 0.98\n",
            "[test] error: 0.08470577200253805 accuracy: 0.97\n",
            "epoch: 71/100\n",
            "[train] error: 0.07898994386196137 accuracy: 0.97\n",
            "[test] error: 0.08501933614412943 accuracy: 0.97\n",
            "epoch: 72/100\n",
            "[train] error: 0.0790646235148112 accuracy: 0.97\n",
            "[test] error: 0.08450242877006531 accuracy: 0.97\n",
            "epoch: 73/100\n",
            "[train] error: 0.07863928725322088 accuracy: 0.98\n",
            "[test] error: 0.08398251533508301 accuracy: 0.97\n",
            "epoch: 74/100\n",
            "[train] error: 0.07851809412240982 accuracy: 0.98\n",
            "[test] error: 0.08378878633181254 accuracy: 0.97\n",
            "epoch: 75/100\n",
            "[train] error: 0.0784848173459371 accuracy: 0.97\n",
            "[test] error: 0.08504439194997152 accuracy: 0.97\n",
            "epoch: 76/100\n",
            "[train] error: 0.07821051528056462 accuracy: 0.97\n",
            "[test] error: 0.08415301442146302 accuracy: 0.97\n",
            "epoch: 77/100\n",
            "[train] error: 0.07848898569742839 accuracy: 0.97\n",
            "[test] error: 0.08411818345387777 accuracy: 0.97\n",
            "epoch: 78/100\n",
            "[train] error: 0.07843053291241328 accuracy: 0.97\n",
            "[test] error: 0.08325615525245667 accuracy: 0.97\n",
            "epoch: 79/100\n",
            "[train] error: 0.07782540172338485 accuracy: 0.98\n",
            "[test] error: 0.08381477197011312 accuracy: 0.97\n",
            "epoch: 80/100\n",
            "[train] error: 0.07769925594329834 accuracy: 0.97\n",
            "[test] error: 0.08359454472859701 accuracy: 0.97\n",
            "epoch: 81/100\n",
            "[train] error: 0.07774367531140645 accuracy: 0.98\n",
            "[test] error: 0.08271626432736714 accuracy: 0.97\n",
            "epoch: 82/100\n",
            "[train] error: 0.07753491401672363 accuracy: 0.98\n",
            "[test] error: 0.08404959440231323 accuracy: 0.97\n",
            "epoch: 83/100\n",
            "[train] error: 0.07742923051118851 accuracy: 0.97\n",
            "[test] error: 0.08327061335245768 accuracy: 0.97\n",
            "epoch: 84/100\n",
            "[train] error: 0.07727844665447871 accuracy: 0.98\n",
            "[test] error: 0.08255672454833984 accuracy: 0.97\n",
            "epoch: 85/100\n",
            "[train] error: 0.07723734825849533 accuracy: 0.97\n",
            "[test] error: 0.08311889171600342 accuracy: 0.97\n",
            "epoch: 86/100\n",
            "[train] error: 0.07710610230763754 accuracy: 0.97\n",
            "[test] error: 0.08240561683972676 accuracy: 0.97\n",
            "epoch: 87/100\n",
            "[train] error: 0.07736912022034327 accuracy: 0.97\n",
            "[test] error: 0.08306894103686015 accuracy: 0.97\n",
            "epoch: 88/100\n",
            "[train] error: 0.07719774196545283 accuracy: 0.98\n",
            "[test] error: 0.08311307827631632 accuracy: 0.97\n",
            "epoch: 89/100\n",
            "[train] error: 0.07688516279061636 accuracy: 0.98\n",
            "[test] error: 0.08196850816408793 accuracy: 0.97\n",
            "epoch: 90/100\n",
            "[train] error: 0.07686936855316162 accuracy: 0.97\n",
            "[test] error: 0.08282843430836996 accuracy: 0.97\n",
            "epoch: 91/100\n",
            "[train] error: 0.07695002903540929 accuracy: 0.97\n",
            "[test] error: 0.08202910224596659 accuracy: 0.97\n",
            "epoch: 92/100\n",
            "[train] error: 0.07648561398188274 accuracy: 0.97\n",
            "[test] error: 0.08261690934499105 accuracy: 0.97\n",
            "epoch: 93/100\n",
            "[train] error: 0.07670580099026363 accuracy: 0.97\n",
            "[test] error: 0.08247301975886027 accuracy: 0.97\n",
            "epoch: 94/100\n",
            "[train] error: 0.07643004854520162 accuracy: 0.97\n",
            "[test] error: 0.08135255575180053 accuracy: 0.97\n",
            "epoch: 95/100\n",
            "[train] error: 0.07635114242633184 accuracy: 0.97\n",
            "[test] error: 0.08275497357050578 accuracy: 0.97\n",
            "epoch: 96/100\n",
            "[train] error: 0.07629254609346389 accuracy: 0.97\n",
            "[test] error: 0.08235174218813578 accuracy: 0.97\n",
            "epoch: 97/100\n",
            "[train] error: 0.07617046634356181 accuracy: 0.97\n",
            "[test] error: 0.08230068683624267 accuracy: 0.97\n",
            "epoch: 98/100\n",
            "[train] error: 0.07615128556887309 accuracy: 0.97\n",
            "[test] error: 0.08242847720781962 accuracy: 0.97\n",
            "epoch: 99/100\n",
            "[train] error: 0.0760728100935618 accuracy: 0.97\n",
            "[test] error: 0.08366821805636088 accuracy: 0.97\n",
            "epoch: 100/100\n",
            "[train] error: 0.07600586613019307 accuracy: 0.97\n",
            "[test] error: 0.08199390172958373 accuracy: 0.97\n"
          ]
        }
      ]
    },
    {
      "cell_type": "markdown",
      "source": [
        "ploteamos la accuracy para los datos de entrenamiento y de prueba,( aqui vemos ocmo el modelo fue aprendiendo a traves del tiempo ya que su accuracy fue aumentando)"
      ],
      "metadata": {
        "id": "D-oiQtNC1RYt"
      }
    },
    {
      "cell_type": "code",
      "source": [
        "import plotly.graph_objects as go\n",
        "fig=go.Figure()\n",
        "fig.add_trace(go.Scatter(y=acc_ep_train,name='train'))\n",
        "fig.add_trace(go.Scatter(y=acc_ep_test,name='test'))\n",
        "fig.update_xaxes(title='epocas')\n",
        "fig.update_yaxes(title='Accuracy')\n",
        "fig.show()"
      ],
      "metadata": {
        "colab": {
          "base_uri": "https://localhost:8080/",
          "height": 542
        },
        "id": "mdXAGn_bqVpx",
        "outputId": "0d6a02b6-a45e-419c-d27a-2c1f9309865f"
      },
      "execution_count": 12,
      "outputs": [
        {
          "output_type": "display_data",
          "data": {
            "text/html": [
              "<html>\n",
              "<head><meta charset=\"utf-8\" /></head>\n",
              "<body>\n",
              "    <div>            <script src=\"https://cdnjs.cloudflare.com/ajax/libs/mathjax/2.7.5/MathJax.js?config=TeX-AMS-MML_SVG\"></script><script type=\"text/javascript\">if (window.MathJax && window.MathJax.Hub && window.MathJax.Hub.Config) {window.MathJax.Hub.Config({SVG: {font: \"STIX-Web\"}});}</script>                <script type=\"text/javascript\">window.PlotlyConfig = {MathJaxConfig: 'local'};</script>\n",
              "        <script charset=\"utf-8\" src=\"https://cdn.plot.ly/plotly-2.24.1.min.js\"></script>                <div id=\"bba015dd-d990-4562-aa59-649ba94d7c55\" class=\"plotly-graph-div\" style=\"height:525px; width:100%;\"></div>            <script type=\"text/javascript\">                                    window.PLOTLYENV=window.PLOTLYENV || {};                                    if (document.getElementById(\"bba015dd-d990-4562-aa59-649ba94d7c55\")) {                    Plotly.newPlot(                        \"bba015dd-d990-4562-aa59-649ba94d7c55\",                        [{\"name\":\"train\",\"y\":[0.425,0.39166666666666666,0.39166666666666666,0.4083333333333333,0.6416666666666667,0.6666666666666666,0.675,0.675,0.675,0.675,0.675,0.675,0.675,0.7,0.7166666666666667,0.7166666666666667,0.7583333333333333,0.7916666666666666,0.7916666666666666,0.8166666666666667,0.875,0.8416666666666667,0.8916666666666667,0.8666666666666667,0.9083333333333333,0.9,0.9333333333333333,0.9083333333333333,0.9666666666666667,0.9583333333333334,0.9333333333333333,0.9416666666666667,0.9583333333333334,0.9666666666666667,0.95,0.9666666666666667,0.9666666666666667,0.9666666666666667,0.9666666666666667,0.975,0.9583333333333334,0.9666666666666667,0.975,0.975,0.9666666666666667,0.9833333333333333,0.9833333333333333,0.975,0.975,0.9583333333333334,0.9833333333333333,0.9833333333333333,0.9666666666666667,0.9666666666666667,0.9833333333333333,0.975,0.975,0.975,0.9666666666666667,0.9666666666666667,0.9833333333333333,0.9833333333333333,0.975,0.975,0.9833333333333333,0.975,0.975,0.975,0.9833333333333333,0.9833333333333333,0.975,0.9666666666666667,0.9833333333333333,0.9833333333333333,0.975,0.975,0.975,0.975,0.9833333333333333,0.975,0.9833333333333333,0.9833333333333333,0.975,0.9833333333333333,0.975,0.975,0.975,0.9833333333333333,0.9833333333333333,0.975,0.975,0.975,0.975,0.975,0.975,0.975,0.975,0.9666666666666667,0.975,0.975],\"type\":\"scatter\"},{\"name\":\"test\",\"y\":[0.1,0.1,0.1,0.3,0.6333333333333333,0.6333333333333333,0.6333333333333333,0.6333333333333333,0.6333333333333333,0.6333333333333333,0.6333333333333333,0.6333333333333333,0.6333333333333333,0.6333333333333333,0.6333333333333333,0.6333333333333333,0.7666666666666667,0.7666666666666667,0.7666666666666667,0.7666666666666667,0.8,0.8333333333333334,0.8333333333333334,0.8333333333333334,0.9,0.8666666666666667,0.8666666666666667,0.8666666666666667,0.9333333333333333,0.9333333333333333,0.9,0.9333333333333333,0.9333333333333333,0.9333333333333333,0.9333333333333333,0.9666666666666667,0.9333333333333333,0.9333333333333333,0.9333333333333333,0.9333333333333333,0.9333333333333333,0.9666666666666667,0.9333333333333333,0.9666666666666667,0.9333333333333333,0.9666666666666667,0.9666666666666667,0.9666666666666667,0.9333333333333333,0.9333333333333333,0.9666666666666667,0.9333333333333333,0.9666666666666667,0.9666666666666667,0.9666666666666667,0.9666666666666667,0.9666666666666667,0.9666666666666667,0.9666666666666667,0.9666666666666667,0.9666666666666667,0.9666666666666667,0.9333333333333333,0.9666666666666667,0.9666666666666667,0.9666666666666667,0.9666666666666667,0.9666666666666667,0.9666666666666667,0.9666666666666667,0.9666666666666667,0.9666666666666667,0.9666666666666667,0.9666666666666667,0.9666666666666667,0.9666666666666667,0.9666666666666667,0.9666666666666667,0.9666666666666667,0.9666666666666667,0.9666666666666667,0.9666666666666667,0.9666666666666667,0.9666666666666667,0.9666666666666667,0.9666666666666667,0.9666666666666667,0.9666666666666667,0.9666666666666667,0.9666666666666667,0.9666666666666667,0.9666666666666667,0.9666666666666667,0.9666666666666667,0.9666666666666667,0.9666666666666667,0.9666666666666667,0.9666666666666667,0.9666666666666667,0.9666666666666667],\"type\":\"scatter\"}],                        {\"template\":{\"data\":{\"histogram2dcontour\":[{\"type\":\"histogram2dcontour\",\"colorbar\":{\"outlinewidth\":0,\"ticks\":\"\"},\"colorscale\":[[0.0,\"#0d0887\"],[0.1111111111111111,\"#46039f\"],[0.2222222222222222,\"#7201a8\"],[0.3333333333333333,\"#9c179e\"],[0.4444444444444444,\"#bd3786\"],[0.5555555555555556,\"#d8576b\"],[0.6666666666666666,\"#ed7953\"],[0.7777777777777778,\"#fb9f3a\"],[0.8888888888888888,\"#fdca26\"],[1.0,\"#f0f921\"]]}],\"choropleth\":[{\"type\":\"choropleth\",\"colorbar\":{\"outlinewidth\":0,\"ticks\":\"\"}}],\"histogram2d\":[{\"type\":\"histogram2d\",\"colorbar\":{\"outlinewidth\":0,\"ticks\":\"\"},\"colorscale\":[[0.0,\"#0d0887\"],[0.1111111111111111,\"#46039f\"],[0.2222222222222222,\"#7201a8\"],[0.3333333333333333,\"#9c179e\"],[0.4444444444444444,\"#bd3786\"],[0.5555555555555556,\"#d8576b\"],[0.6666666666666666,\"#ed7953\"],[0.7777777777777778,\"#fb9f3a\"],[0.8888888888888888,\"#fdca26\"],[1.0,\"#f0f921\"]]}],\"heatmap\":[{\"type\":\"heatmap\",\"colorbar\":{\"outlinewidth\":0,\"ticks\":\"\"},\"colorscale\":[[0.0,\"#0d0887\"],[0.1111111111111111,\"#46039f\"],[0.2222222222222222,\"#7201a8\"],[0.3333333333333333,\"#9c179e\"],[0.4444444444444444,\"#bd3786\"],[0.5555555555555556,\"#d8576b\"],[0.6666666666666666,\"#ed7953\"],[0.7777777777777778,\"#fb9f3a\"],[0.8888888888888888,\"#fdca26\"],[1.0,\"#f0f921\"]]}],\"heatmapgl\":[{\"type\":\"heatmapgl\",\"colorbar\":{\"outlinewidth\":0,\"ticks\":\"\"},\"colorscale\":[[0.0,\"#0d0887\"],[0.1111111111111111,\"#46039f\"],[0.2222222222222222,\"#7201a8\"],[0.3333333333333333,\"#9c179e\"],[0.4444444444444444,\"#bd3786\"],[0.5555555555555556,\"#d8576b\"],[0.6666666666666666,\"#ed7953\"],[0.7777777777777778,\"#fb9f3a\"],[0.8888888888888888,\"#fdca26\"],[1.0,\"#f0f921\"]]}],\"contourcarpet\":[{\"type\":\"contourcarpet\",\"colorbar\":{\"outlinewidth\":0,\"ticks\":\"\"}}],\"contour\":[{\"type\":\"contour\",\"colorbar\":{\"outlinewidth\":0,\"ticks\":\"\"},\"colorscale\":[[0.0,\"#0d0887\"],[0.1111111111111111,\"#46039f\"],[0.2222222222222222,\"#7201a8\"],[0.3333333333333333,\"#9c179e\"],[0.4444444444444444,\"#bd3786\"],[0.5555555555555556,\"#d8576b\"],[0.6666666666666666,\"#ed7953\"],[0.7777777777777778,\"#fb9f3a\"],[0.8888888888888888,\"#fdca26\"],[1.0,\"#f0f921\"]]}],\"surface\":[{\"type\":\"surface\",\"colorbar\":{\"outlinewidth\":0,\"ticks\":\"\"},\"colorscale\":[[0.0,\"#0d0887\"],[0.1111111111111111,\"#46039f\"],[0.2222222222222222,\"#7201a8\"],[0.3333333333333333,\"#9c179e\"],[0.4444444444444444,\"#bd3786\"],[0.5555555555555556,\"#d8576b\"],[0.6666666666666666,\"#ed7953\"],[0.7777777777777778,\"#fb9f3a\"],[0.8888888888888888,\"#fdca26\"],[1.0,\"#f0f921\"]]}],\"mesh3d\":[{\"type\":\"mesh3d\",\"colorbar\":{\"outlinewidth\":0,\"ticks\":\"\"}}],\"scatter\":[{\"fillpattern\":{\"fillmode\":\"overlay\",\"size\":10,\"solidity\":0.2},\"type\":\"scatter\"}],\"parcoords\":[{\"type\":\"parcoords\",\"line\":{\"colorbar\":{\"outlinewidth\":0,\"ticks\":\"\"}}}],\"scatterpolargl\":[{\"type\":\"scatterpolargl\",\"marker\":{\"colorbar\":{\"outlinewidth\":0,\"ticks\":\"\"}}}],\"bar\":[{\"error_x\":{\"color\":\"#2a3f5f\"},\"error_y\":{\"color\":\"#2a3f5f\"},\"marker\":{\"line\":{\"color\":\"#E5ECF6\",\"width\":0.5},\"pattern\":{\"fillmode\":\"overlay\",\"size\":10,\"solidity\":0.2}},\"type\":\"bar\"}],\"scattergeo\":[{\"type\":\"scattergeo\",\"marker\":{\"colorbar\":{\"outlinewidth\":0,\"ticks\":\"\"}}}],\"scatterpolar\":[{\"type\":\"scatterpolar\",\"marker\":{\"colorbar\":{\"outlinewidth\":0,\"ticks\":\"\"}}}],\"histogram\":[{\"marker\":{\"pattern\":{\"fillmode\":\"overlay\",\"size\":10,\"solidity\":0.2}},\"type\":\"histogram\"}],\"scattergl\":[{\"type\":\"scattergl\",\"marker\":{\"colorbar\":{\"outlinewidth\":0,\"ticks\":\"\"}}}],\"scatter3d\":[{\"type\":\"scatter3d\",\"line\":{\"colorbar\":{\"outlinewidth\":0,\"ticks\":\"\"}},\"marker\":{\"colorbar\":{\"outlinewidth\":0,\"ticks\":\"\"}}}],\"scattermapbox\":[{\"type\":\"scattermapbox\",\"marker\":{\"colorbar\":{\"outlinewidth\":0,\"ticks\":\"\"}}}],\"scatterternary\":[{\"type\":\"scatterternary\",\"marker\":{\"colorbar\":{\"outlinewidth\":0,\"ticks\":\"\"}}}],\"scattercarpet\":[{\"type\":\"scattercarpet\",\"marker\":{\"colorbar\":{\"outlinewidth\":0,\"ticks\":\"\"}}}],\"carpet\":[{\"aaxis\":{\"endlinecolor\":\"#2a3f5f\",\"gridcolor\":\"white\",\"linecolor\":\"white\",\"minorgridcolor\":\"white\",\"startlinecolor\":\"#2a3f5f\"},\"baxis\":{\"endlinecolor\":\"#2a3f5f\",\"gridcolor\":\"white\",\"linecolor\":\"white\",\"minorgridcolor\":\"white\",\"startlinecolor\":\"#2a3f5f\"},\"type\":\"carpet\"}],\"table\":[{\"cells\":{\"fill\":{\"color\":\"#EBF0F8\"},\"line\":{\"color\":\"white\"}},\"header\":{\"fill\":{\"color\":\"#C8D4E3\"},\"line\":{\"color\":\"white\"}},\"type\":\"table\"}],\"barpolar\":[{\"marker\":{\"line\":{\"color\":\"#E5ECF6\",\"width\":0.5},\"pattern\":{\"fillmode\":\"overlay\",\"size\":10,\"solidity\":0.2}},\"type\":\"barpolar\"}],\"pie\":[{\"automargin\":true,\"type\":\"pie\"}]},\"layout\":{\"autotypenumbers\":\"strict\",\"colorway\":[\"#636efa\",\"#EF553B\",\"#00cc96\",\"#ab63fa\",\"#FFA15A\",\"#19d3f3\",\"#FF6692\",\"#B6E880\",\"#FF97FF\",\"#FECB52\"],\"font\":{\"color\":\"#2a3f5f\"},\"hovermode\":\"closest\",\"hoverlabel\":{\"align\":\"left\"},\"paper_bgcolor\":\"white\",\"plot_bgcolor\":\"#E5ECF6\",\"polar\":{\"bgcolor\":\"#E5ECF6\",\"angularaxis\":{\"gridcolor\":\"white\",\"linecolor\":\"white\",\"ticks\":\"\"},\"radialaxis\":{\"gridcolor\":\"white\",\"linecolor\":\"white\",\"ticks\":\"\"}},\"ternary\":{\"bgcolor\":\"#E5ECF6\",\"aaxis\":{\"gridcolor\":\"white\",\"linecolor\":\"white\",\"ticks\":\"\"},\"baxis\":{\"gridcolor\":\"white\",\"linecolor\":\"white\",\"ticks\":\"\"},\"caxis\":{\"gridcolor\":\"white\",\"linecolor\":\"white\",\"ticks\":\"\"}},\"coloraxis\":{\"colorbar\":{\"outlinewidth\":0,\"ticks\":\"\"}},\"colorscale\":{\"sequential\":[[0.0,\"#0d0887\"],[0.1111111111111111,\"#46039f\"],[0.2222222222222222,\"#7201a8\"],[0.3333333333333333,\"#9c179e\"],[0.4444444444444444,\"#bd3786\"],[0.5555555555555556,\"#d8576b\"],[0.6666666666666666,\"#ed7953\"],[0.7777777777777778,\"#fb9f3a\"],[0.8888888888888888,\"#fdca26\"],[1.0,\"#f0f921\"]],\"sequentialminus\":[[0.0,\"#0d0887\"],[0.1111111111111111,\"#46039f\"],[0.2222222222222222,\"#7201a8\"],[0.3333333333333333,\"#9c179e\"],[0.4444444444444444,\"#bd3786\"],[0.5555555555555556,\"#d8576b\"],[0.6666666666666666,\"#ed7953\"],[0.7777777777777778,\"#fb9f3a\"],[0.8888888888888888,\"#fdca26\"],[1.0,\"#f0f921\"]],\"diverging\":[[0,\"#8e0152\"],[0.1,\"#c51b7d\"],[0.2,\"#de77ae\"],[0.3,\"#f1b6da\"],[0.4,\"#fde0ef\"],[0.5,\"#f7f7f7\"],[0.6,\"#e6f5d0\"],[0.7,\"#b8e186\"],[0.8,\"#7fbc41\"],[0.9,\"#4d9221\"],[1,\"#276419\"]]},\"xaxis\":{\"gridcolor\":\"white\",\"linecolor\":\"white\",\"ticks\":\"\",\"title\":{\"standoff\":15},\"zerolinecolor\":\"white\",\"automargin\":true,\"zerolinewidth\":2},\"yaxis\":{\"gridcolor\":\"white\",\"linecolor\":\"white\",\"ticks\":\"\",\"title\":{\"standoff\":15},\"zerolinecolor\":\"white\",\"automargin\":true,\"zerolinewidth\":2},\"scene\":{\"xaxis\":{\"backgroundcolor\":\"#E5ECF6\",\"gridcolor\":\"white\",\"linecolor\":\"white\",\"showbackground\":true,\"ticks\":\"\",\"zerolinecolor\":\"white\",\"gridwidth\":2},\"yaxis\":{\"backgroundcolor\":\"#E5ECF6\",\"gridcolor\":\"white\",\"linecolor\":\"white\",\"showbackground\":true,\"ticks\":\"\",\"zerolinecolor\":\"white\",\"gridwidth\":2},\"zaxis\":{\"backgroundcolor\":\"#E5ECF6\",\"gridcolor\":\"white\",\"linecolor\":\"white\",\"showbackground\":true,\"ticks\":\"\",\"zerolinecolor\":\"white\",\"gridwidth\":2}},\"shapedefaults\":{\"line\":{\"color\":\"#2a3f5f\"}},\"annotationdefaults\":{\"arrowcolor\":\"#2a3f5f\",\"arrowhead\":0,\"arrowwidth\":1},\"geo\":{\"bgcolor\":\"white\",\"landcolor\":\"#E5ECF6\",\"subunitcolor\":\"white\",\"showland\":true,\"showlakes\":true,\"lakecolor\":\"white\"},\"title\":{\"x\":0.05},\"mapbox\":{\"style\":\"light\"}}},\"xaxis\":{\"title\":{\"text\":\"epocas\"}},\"yaxis\":{\"title\":{\"text\":\"Accuracy\"}}},                        {\"responsive\": true}                    ).then(function(){\n",
              "                            \n",
              "var gd = document.getElementById('bba015dd-d990-4562-aa59-649ba94d7c55');\n",
              "var x = new MutationObserver(function (mutations, observer) {{\n",
              "        var display = window.getComputedStyle(gd).display;\n",
              "        if (!display || display === 'none') {{\n",
              "            console.log([gd, 'removed!']);\n",
              "            Plotly.purge(gd);\n",
              "            observer.disconnect();\n",
              "        }}\n",
              "}});\n",
              "\n",
              "// Listen for the removal of the full notebook cells\n",
              "var notebookContainer = gd.closest('#notebook-container');\n",
              "if (notebookContainer) {{\n",
              "    x.observe(notebookContainer, {childList: true});\n",
              "}}\n",
              "\n",
              "// Listen for the clearing of the current output cell\n",
              "var outputEl = gd.closest('.output');\n",
              "if (outputEl) {{\n",
              "    x.observe(outputEl, {childList: true});\n",
              "}}\n",
              "\n",
              "                        })                };                            </script>        </div>\n",
              "</body>\n",
              "</html>"
            ]
          },
          "metadata": {}
        }
      ]
    },
    {
      "cell_type": "markdown",
      "source": [
        "ploteamos el  error para los datos de entrenamiento y de prueba,( aqui vemos como el modelo fue aprendiendo a traves del tiempo ya que su error fue disminuyendo)"
      ],
      "metadata": {
        "id": "peOhjO_f1cwY"
      }
    },
    {
      "cell_type": "code",
      "source": [
        "fig=go.Figure()\n",
        "fig.add_trace(go.Scatter(y=loss_ep_train,name='train'))\n",
        "fig.add_trace(go.Scatter(y=loss_ep_test,name='test'))\n",
        "fig.update_xaxes(title='epocas')\n",
        "fig.update_yaxes(title='Error')\n",
        "fig.show()"
      ],
      "metadata": {
        "colab": {
          "base_uri": "https://localhost:8080/",
          "height": 542
        },
        "id": "uYNhdlQNhqYR",
        "outputId": "e7aee831-3647-407a-bcc5-c528a3185854"
      },
      "execution_count": 13,
      "outputs": [
        {
          "output_type": "display_data",
          "data": {
            "text/html": [
              "<html>\n",
              "<head><meta charset=\"utf-8\" /></head>\n",
              "<body>\n",
              "    <div>            <script src=\"https://cdnjs.cloudflare.com/ajax/libs/mathjax/2.7.5/MathJax.js?config=TeX-AMS-MML_SVG\"></script><script type=\"text/javascript\">if (window.MathJax && window.MathJax.Hub && window.MathJax.Hub.Config) {window.MathJax.Hub.Config({SVG: {font: \"STIX-Web\"}});}</script>                <script type=\"text/javascript\">window.PlotlyConfig = {MathJaxConfig: 'local'};</script>\n",
              "        <script charset=\"utf-8\" src=\"https://cdn.plot.ly/plotly-2.24.1.min.js\"></script>                <div id=\"39362dd5-6f0c-461a-8035-53e58132a37a\" class=\"plotly-graph-div\" style=\"height:525px; width:100%;\"></div>            <script type=\"text/javascript\">                                    window.PLOTLYENV=window.PLOTLYENV || {};                                    if (document.getElementById(\"39362dd5-6f0c-461a-8035-53e58132a37a\")) {                    Plotly.newPlot(                        \"39362dd5-6f0c-461a-8035-53e58132a37a\",                        [{\"name\":\"train\",\"y\":[0.13031082202990849,0.127769768734773,0.1259942149122556,0.1235727330048879,0.12085418154795964,0.11805661022663116,0.11545654932657877,0.11293553610642751,0.1109157865246137,0.10908653338750203,0.10756170401970545,0.10624708781639734,0.10505197544892629,0.10403669327497482,0.10295564035574595,0.10202516814072927,0.10114603986342748,0.10035637517770131,0.0995139330625534,0.0988332803050677,0.09808561156193416,0.09741048713525137,0.09670537412166595,0.09626816014448801,0.09550322542587916,0.09492240349451701,0.09428015897671381,0.09362661341826121,0.09304006397724152,0.09254150042931239,0.09194577982028325,0.09140442957480749,0.09078609943389893,0.0902733047803243,0.09016349762678147,0.08915442178646724,0.08903361707925797,0.0883155733346939,0.08776639997959138,0.08766564826170603,0.08695474763711293,0.08657715022563935,0.08612306813398997,0.08581697543462118,0.0856784035762151,0.08507082064946493,0.08461231887340545,0.08457756787538528,0.08398425827423732,0.08385122915108999,0.08348392794529597,0.08307394683361054,0.08292013158400853,0.08263473411401114,0.08216498792171478,0.08196458866198858,0.08175965795914332,0.08161897162596385,0.08131547172864279,0.08099950104951859,0.08077416867017746,0.08066656837860743,0.08050538251797358,0.08009383082389832,0.08015968799591064,0.07975012958049774,0.07962450484434763,0.07951277047395706,0.07923772086699804,0.07913562109073004,0.07898994386196137,0.0790646235148112,0.07863928725322088,0.07851809412240982,0.0784848173459371,0.07821051528056462,0.07848898569742839,0.07843053291241328,0.07782540172338485,0.07769925594329834,0.07774367531140645,0.07753491401672363,0.07742923051118851,0.07727844665447871,0.07723734825849533,0.07710610230763754,0.07736912022034327,0.07719774196545283,0.07688516279061636,0.07686936855316162,0.07695002903540929,0.07648561398188274,0.07670580099026363,0.07643004854520162,0.07635114242633184,0.07629254609346389,0.07617046634356181,0.07615128556887309,0.0760728100935618,0.07600586613019307],\"type\":\"scatter\"},{\"name\":\"test\",\"y\":[0.15353318055470785,0.154324205716451,0.14944632450739542,0.14355351130167643,0.13925569852193195,0.13351110021273296,0.12735759218533835,0.12536824146906536,0.12155652443567912,0.11833960811297099,0.11587761243184408,0.11429223418235779,0.11166957418123881,0.11131531000137329,0.10981812477111816,0.10838173826535542,0.10625512997309366,0.10566229422887166,0.10336111783981324,0.10524494449297588,0.10160163442293803,0.1026720404624939,0.10093120336532593,0.10059749285380046,0.0980028748512268,0.0998919705549876,0.09809338649113973,0.09767680962880453,0.09768324891726175,0.09614010055859884,0.09655866622924805,0.09515179395675659,0.09380415280659994,0.09368584553400676,0.09585531552632649,0.09283603429794311,0.09366751313209534,0.09282999634742736,0.09287045995394388,0.09136298696200053,0.09299047191937765,0.0910612424214681,0.09061764280001322,0.08956731557846069,0.09069178501764934,0.0880709171295166,0.08910868366559346,0.08877758781115214,0.08942273060480753,0.08929725289344788,0.08691299955050151,0.0896796464920044,0.08771369457244874,0.08786787788073222,0.0869046946366628,0.08684723774592082,0.08748914996782939,0.08601017395655314,0.08633645375569661,0.08627846837043762,0.08618024190266928,0.0851243277390798,0.08777296543121338,0.08476929465929667,0.084659876426061,0.08679872353871664,0.08594213525454203,0.08540236155192057,0.08413451115290324,0.08470577200253805,0.08501933614412943,0.08450242877006531,0.08398251533508301,0.08378878633181254,0.08504439194997152,0.08415301442146302,0.08411818345387777,0.08325615525245667,0.08381477197011312,0.08359454472859701,0.08271626432736714,0.08404959440231323,0.08327061335245768,0.08255672454833984,0.08311889171600342,0.08240561683972676,0.08306894103686015,0.08311307827631632,0.08196850816408793,0.08282843430836996,0.08202910224596659,0.08261690934499105,0.08247301975886027,0.08135255575180053,0.08275497357050578,0.08235174218813578,0.08230068683624267,0.08242847720781962,0.08366821805636088,0.08199390172958373],\"type\":\"scatter\"}],                        {\"template\":{\"data\":{\"histogram2dcontour\":[{\"type\":\"histogram2dcontour\",\"colorbar\":{\"outlinewidth\":0,\"ticks\":\"\"},\"colorscale\":[[0.0,\"#0d0887\"],[0.1111111111111111,\"#46039f\"],[0.2222222222222222,\"#7201a8\"],[0.3333333333333333,\"#9c179e\"],[0.4444444444444444,\"#bd3786\"],[0.5555555555555556,\"#d8576b\"],[0.6666666666666666,\"#ed7953\"],[0.7777777777777778,\"#fb9f3a\"],[0.8888888888888888,\"#fdca26\"],[1.0,\"#f0f921\"]]}],\"choropleth\":[{\"type\":\"choropleth\",\"colorbar\":{\"outlinewidth\":0,\"ticks\":\"\"}}],\"histogram2d\":[{\"type\":\"histogram2d\",\"colorbar\":{\"outlinewidth\":0,\"ticks\":\"\"},\"colorscale\":[[0.0,\"#0d0887\"],[0.1111111111111111,\"#46039f\"],[0.2222222222222222,\"#7201a8\"],[0.3333333333333333,\"#9c179e\"],[0.4444444444444444,\"#bd3786\"],[0.5555555555555556,\"#d8576b\"],[0.6666666666666666,\"#ed7953\"],[0.7777777777777778,\"#fb9f3a\"],[0.8888888888888888,\"#fdca26\"],[1.0,\"#f0f921\"]]}],\"heatmap\":[{\"type\":\"heatmap\",\"colorbar\":{\"outlinewidth\":0,\"ticks\":\"\"},\"colorscale\":[[0.0,\"#0d0887\"],[0.1111111111111111,\"#46039f\"],[0.2222222222222222,\"#7201a8\"],[0.3333333333333333,\"#9c179e\"],[0.4444444444444444,\"#bd3786\"],[0.5555555555555556,\"#d8576b\"],[0.6666666666666666,\"#ed7953\"],[0.7777777777777778,\"#fb9f3a\"],[0.8888888888888888,\"#fdca26\"],[1.0,\"#f0f921\"]]}],\"heatmapgl\":[{\"type\":\"heatmapgl\",\"colorbar\":{\"outlinewidth\":0,\"ticks\":\"\"},\"colorscale\":[[0.0,\"#0d0887\"],[0.1111111111111111,\"#46039f\"],[0.2222222222222222,\"#7201a8\"],[0.3333333333333333,\"#9c179e\"],[0.4444444444444444,\"#bd3786\"],[0.5555555555555556,\"#d8576b\"],[0.6666666666666666,\"#ed7953\"],[0.7777777777777778,\"#fb9f3a\"],[0.8888888888888888,\"#fdca26\"],[1.0,\"#f0f921\"]]}],\"contourcarpet\":[{\"type\":\"contourcarpet\",\"colorbar\":{\"outlinewidth\":0,\"ticks\":\"\"}}],\"contour\":[{\"type\":\"contour\",\"colorbar\":{\"outlinewidth\":0,\"ticks\":\"\"},\"colorscale\":[[0.0,\"#0d0887\"],[0.1111111111111111,\"#46039f\"],[0.2222222222222222,\"#7201a8\"],[0.3333333333333333,\"#9c179e\"],[0.4444444444444444,\"#bd3786\"],[0.5555555555555556,\"#d8576b\"],[0.6666666666666666,\"#ed7953\"],[0.7777777777777778,\"#fb9f3a\"],[0.8888888888888888,\"#fdca26\"],[1.0,\"#f0f921\"]]}],\"surface\":[{\"type\":\"surface\",\"colorbar\":{\"outlinewidth\":0,\"ticks\":\"\"},\"colorscale\":[[0.0,\"#0d0887\"],[0.1111111111111111,\"#46039f\"],[0.2222222222222222,\"#7201a8\"],[0.3333333333333333,\"#9c179e\"],[0.4444444444444444,\"#bd3786\"],[0.5555555555555556,\"#d8576b\"],[0.6666666666666666,\"#ed7953\"],[0.7777777777777778,\"#fb9f3a\"],[0.8888888888888888,\"#fdca26\"],[1.0,\"#f0f921\"]]}],\"mesh3d\":[{\"type\":\"mesh3d\",\"colorbar\":{\"outlinewidth\":0,\"ticks\":\"\"}}],\"scatter\":[{\"fillpattern\":{\"fillmode\":\"overlay\",\"size\":10,\"solidity\":0.2},\"type\":\"scatter\"}],\"parcoords\":[{\"type\":\"parcoords\",\"line\":{\"colorbar\":{\"outlinewidth\":0,\"ticks\":\"\"}}}],\"scatterpolargl\":[{\"type\":\"scatterpolargl\",\"marker\":{\"colorbar\":{\"outlinewidth\":0,\"ticks\":\"\"}}}],\"bar\":[{\"error_x\":{\"color\":\"#2a3f5f\"},\"error_y\":{\"color\":\"#2a3f5f\"},\"marker\":{\"line\":{\"color\":\"#E5ECF6\",\"width\":0.5},\"pattern\":{\"fillmode\":\"overlay\",\"size\":10,\"solidity\":0.2}},\"type\":\"bar\"}],\"scattergeo\":[{\"type\":\"scattergeo\",\"marker\":{\"colorbar\":{\"outlinewidth\":0,\"ticks\":\"\"}}}],\"scatterpolar\":[{\"type\":\"scatterpolar\",\"marker\":{\"colorbar\":{\"outlinewidth\":0,\"ticks\":\"\"}}}],\"histogram\":[{\"marker\":{\"pattern\":{\"fillmode\":\"overlay\",\"size\":10,\"solidity\":0.2}},\"type\":\"histogram\"}],\"scattergl\":[{\"type\":\"scattergl\",\"marker\":{\"colorbar\":{\"outlinewidth\":0,\"ticks\":\"\"}}}],\"scatter3d\":[{\"type\":\"scatter3d\",\"line\":{\"colorbar\":{\"outlinewidth\":0,\"ticks\":\"\"}},\"marker\":{\"colorbar\":{\"outlinewidth\":0,\"ticks\":\"\"}}}],\"scattermapbox\":[{\"type\":\"scattermapbox\",\"marker\":{\"colorbar\":{\"outlinewidth\":0,\"ticks\":\"\"}}}],\"scatterternary\":[{\"type\":\"scatterternary\",\"marker\":{\"colorbar\":{\"outlinewidth\":0,\"ticks\":\"\"}}}],\"scattercarpet\":[{\"type\":\"scattercarpet\",\"marker\":{\"colorbar\":{\"outlinewidth\":0,\"ticks\":\"\"}}}],\"carpet\":[{\"aaxis\":{\"endlinecolor\":\"#2a3f5f\",\"gridcolor\":\"white\",\"linecolor\":\"white\",\"minorgridcolor\":\"white\",\"startlinecolor\":\"#2a3f5f\"},\"baxis\":{\"endlinecolor\":\"#2a3f5f\",\"gridcolor\":\"white\",\"linecolor\":\"white\",\"minorgridcolor\":\"white\",\"startlinecolor\":\"#2a3f5f\"},\"type\":\"carpet\"}],\"table\":[{\"cells\":{\"fill\":{\"color\":\"#EBF0F8\"},\"line\":{\"color\":\"white\"}},\"header\":{\"fill\":{\"color\":\"#C8D4E3\"},\"line\":{\"color\":\"white\"}},\"type\":\"table\"}],\"barpolar\":[{\"marker\":{\"line\":{\"color\":\"#E5ECF6\",\"width\":0.5},\"pattern\":{\"fillmode\":\"overlay\",\"size\":10,\"solidity\":0.2}},\"type\":\"barpolar\"}],\"pie\":[{\"automargin\":true,\"type\":\"pie\"}]},\"layout\":{\"autotypenumbers\":\"strict\",\"colorway\":[\"#636efa\",\"#EF553B\",\"#00cc96\",\"#ab63fa\",\"#FFA15A\",\"#19d3f3\",\"#FF6692\",\"#B6E880\",\"#FF97FF\",\"#FECB52\"],\"font\":{\"color\":\"#2a3f5f\"},\"hovermode\":\"closest\",\"hoverlabel\":{\"align\":\"left\"},\"paper_bgcolor\":\"white\",\"plot_bgcolor\":\"#E5ECF6\",\"polar\":{\"bgcolor\":\"#E5ECF6\",\"angularaxis\":{\"gridcolor\":\"white\",\"linecolor\":\"white\",\"ticks\":\"\"},\"radialaxis\":{\"gridcolor\":\"white\",\"linecolor\":\"white\",\"ticks\":\"\"}},\"ternary\":{\"bgcolor\":\"#E5ECF6\",\"aaxis\":{\"gridcolor\":\"white\",\"linecolor\":\"white\",\"ticks\":\"\"},\"baxis\":{\"gridcolor\":\"white\",\"linecolor\":\"white\",\"ticks\":\"\"},\"caxis\":{\"gridcolor\":\"white\",\"linecolor\":\"white\",\"ticks\":\"\"}},\"coloraxis\":{\"colorbar\":{\"outlinewidth\":0,\"ticks\":\"\"}},\"colorscale\":{\"sequential\":[[0.0,\"#0d0887\"],[0.1111111111111111,\"#46039f\"],[0.2222222222222222,\"#7201a8\"],[0.3333333333333333,\"#9c179e\"],[0.4444444444444444,\"#bd3786\"],[0.5555555555555556,\"#d8576b\"],[0.6666666666666666,\"#ed7953\"],[0.7777777777777778,\"#fb9f3a\"],[0.8888888888888888,\"#fdca26\"],[1.0,\"#f0f921\"]],\"sequentialminus\":[[0.0,\"#0d0887\"],[0.1111111111111111,\"#46039f\"],[0.2222222222222222,\"#7201a8\"],[0.3333333333333333,\"#9c179e\"],[0.4444444444444444,\"#bd3786\"],[0.5555555555555556,\"#d8576b\"],[0.6666666666666666,\"#ed7953\"],[0.7777777777777778,\"#fb9f3a\"],[0.8888888888888888,\"#fdca26\"],[1.0,\"#f0f921\"]],\"diverging\":[[0,\"#8e0152\"],[0.1,\"#c51b7d\"],[0.2,\"#de77ae\"],[0.3,\"#f1b6da\"],[0.4,\"#fde0ef\"],[0.5,\"#f7f7f7\"],[0.6,\"#e6f5d0\"],[0.7,\"#b8e186\"],[0.8,\"#7fbc41\"],[0.9,\"#4d9221\"],[1,\"#276419\"]]},\"xaxis\":{\"gridcolor\":\"white\",\"linecolor\":\"white\",\"ticks\":\"\",\"title\":{\"standoff\":15},\"zerolinecolor\":\"white\",\"automargin\":true,\"zerolinewidth\":2},\"yaxis\":{\"gridcolor\":\"white\",\"linecolor\":\"white\",\"ticks\":\"\",\"title\":{\"standoff\":15},\"zerolinecolor\":\"white\",\"automargin\":true,\"zerolinewidth\":2},\"scene\":{\"xaxis\":{\"backgroundcolor\":\"#E5ECF6\",\"gridcolor\":\"white\",\"linecolor\":\"white\",\"showbackground\":true,\"ticks\":\"\",\"zerolinecolor\":\"white\",\"gridwidth\":2},\"yaxis\":{\"backgroundcolor\":\"#E5ECF6\",\"gridcolor\":\"white\",\"linecolor\":\"white\",\"showbackground\":true,\"ticks\":\"\",\"zerolinecolor\":\"white\",\"gridwidth\":2},\"zaxis\":{\"backgroundcolor\":\"#E5ECF6\",\"gridcolor\":\"white\",\"linecolor\":\"white\",\"showbackground\":true,\"ticks\":\"\",\"zerolinecolor\":\"white\",\"gridwidth\":2}},\"shapedefaults\":{\"line\":{\"color\":\"#2a3f5f\"}},\"annotationdefaults\":{\"arrowcolor\":\"#2a3f5f\",\"arrowhead\":0,\"arrowwidth\":1},\"geo\":{\"bgcolor\":\"white\",\"landcolor\":\"#E5ECF6\",\"subunitcolor\":\"white\",\"showland\":true,\"showlakes\":true,\"lakecolor\":\"white\"},\"title\":{\"x\":0.05},\"mapbox\":{\"style\":\"light\"}}},\"xaxis\":{\"title\":{\"text\":\"epocas\"}},\"yaxis\":{\"title\":{\"text\":\"Error\"}}},                        {\"responsive\": true}                    ).then(function(){\n",
              "                            \n",
              "var gd = document.getElementById('39362dd5-6f0c-461a-8035-53e58132a37a');\n",
              "var x = new MutationObserver(function (mutations, observer) {{\n",
              "        var display = window.getComputedStyle(gd).display;\n",
              "        if (!display || display === 'none') {{\n",
              "            console.log([gd, 'removed!']);\n",
              "            Plotly.purge(gd);\n",
              "            observer.disconnect();\n",
              "        }}\n",
              "}});\n",
              "\n",
              "// Listen for the removal of the full notebook cells\n",
              "var notebookContainer = gd.closest('#notebook-container');\n",
              "if (notebookContainer) {{\n",
              "    x.observe(notebookContainer, {childList: true});\n",
              "}}\n",
              "\n",
              "// Listen for the clearing of the current output cell\n",
              "var outputEl = gd.closest('.output');\n",
              "if (outputEl) {{\n",
              "    x.observe(outputEl, {childList: true});\n",
              "}}\n",
              "\n",
              "                        })                };                            </script>        </div>\n",
              "</body>\n",
              "</html>"
            ]
          },
          "metadata": {}
        }
      ]
    },
    {
      "cell_type": "markdown",
      "source": [
        "finalmente vemos el desempeño final con los datos de prueba"
      ],
      "metadata": {
        "id": "JXfvR6dV1m7H"
      }
    },
    {
      "cell_type": "code",
      "source": [
        "finaltestdataloader=DataLoader(test_dataset,shuffle=True,batch_size=len(test_dataset))\n",
        "for xtest,ytrue in finaltestdataloader:\n",
        "  pass\n",
        "_,preds=torch.max(best_model(xtest),1)"
      ],
      "metadata": {
        "id": "YJhTclp6tPgo"
      },
      "execution_count": 14,
      "outputs": []
    },
    {
      "cell_type": "code",
      "source": [
        "from sklearn.metrics import classification_report\n",
        "print(classification_report(ytrue.numpy(), preds.numpy(),target_names=['Iris-setosa','Iris-versicolor','Iris-virginica']))"
      ],
      "metadata": {
        "colab": {
          "base_uri": "https://localhost:8080/"
        },
        "id": "ctsfvcpmiNkk",
        "outputId": "bbc808b2-35fc-45e9-ae20-b9bc0a7e675a"
      },
      "execution_count": 15,
      "outputs": [
        {
          "output_type": "stream",
          "name": "stdout",
          "text": [
            "                 precision    recall  f1-score   support\n",
            "\n",
            "    Iris-setosa       1.00      1.00      1.00        16\n",
            "Iris-versicolor       1.00      0.91      0.95        11\n",
            " Iris-virginica       0.75      1.00      0.86         3\n",
            "\n",
            "       accuracy                           0.97        30\n",
            "      macro avg       0.92      0.97      0.94        30\n",
            "   weighted avg       0.97      0.97      0.97        30\n",
            "\n"
          ]
        }
      ]
    },
    {
      "cell_type": "code",
      "source": [],
      "metadata": {
        "id": "S7CvBGjDFQ5O"
      },
      "execution_count": null,
      "outputs": []
    }
  ]
}